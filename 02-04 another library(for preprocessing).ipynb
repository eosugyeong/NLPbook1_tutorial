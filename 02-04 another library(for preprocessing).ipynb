{
 "cells": [
  {
   "cell_type": "code",
   "execution_count": 3,
   "metadata": {},
   "outputs": [
    {
     "name": "stderr",
     "output_type": "stream",
     "text": [
      "C:\\Users\\ehrme\\AppData\\Local\\Continuum\\anaconda3\\envs\\sugyeong_2019\\lib\\site-packages\\numpy\\_distributor_init.py:32: UserWarning: loaded more than 1 DLL from .libs:\n",
      "C:\\Users\\ehrme\\AppData\\Local\\Continuum\\anaconda3\\envs\\sugyeong_2019\\lib\\site-packages\\numpy\\.libs\\libopenblas.IPBC74C7KURV7CB2PKT5Z5FNR3SIBV4J.gfortran-win_amd64.dll\n",
      "C:\\Users\\ehrme\\AppData\\Local\\Continuum\\anaconda3\\envs\\sugyeong_2019\\lib\\site-packages\\numpy\\.libs\\libopenblas.TXA6YQSD3GCQQC22GEQ54J2UDCXDXHWN.gfortran-win_amd64.dll\n",
      "  stacklevel=1)\n"
     ]
    },
    {
     "name": "stdout",
     "output_type": "stream",
     "text": [
      "2\n",
      "(4, 3)\n",
      "12\n",
      "int32\n",
      "[[0. 0. 0.]\n",
      " [0. 0. 0.]]\n",
      "[[1.]\n",
      " [1.]]\n",
      "[[2.04738726e+190 1.81590237e-152]\n",
      " [9.13602946e+242 2.32160957e-152]]\n",
      "[10 15 20 25]\n",
      "[[4 4]\n",
      " [4 4]]\n",
      "[[1. 0. 0.]\n",
      " [0. 1. 0.]\n",
      " [0. 0. 1.]]\n",
      "[[0.7957636  0.8480118 ]\n",
      " [0.10409931 0.81404828]]\n"
     ]
    }
   ],
   "source": [
    "#numpy\n",
    "import numpy as np\n",
    "\n",
    "a = np.array([[1,2,3], [1,5,9], [3,5,7], [1,2,4]])\n",
    "print(a.ndim)\n",
    "print(a.shape)\n",
    "print(a.size)\n",
    "print(a.dtype)\n",
    "\n",
    "a = np.zeros((2,3))\n",
    "print(a)\n",
    "b = np.ones((2,1))\n",
    "print(b)\n",
    "c = np.empty((2,2))\n",
    "print(c)\n",
    "d = np.arange(10, 30, 5)\n",
    "print(d)\n",
    "e = np.full((2,2), 4)\n",
    "print(e)\n",
    "f = np.eye(3)\n",
    "print(f)\n",
    "g = np.random.random((2,2))\n",
    "print(g)"
   ]
  },
  {
   "cell_type": "code",
   "execution_count": 34,
   "metadata": {},
   "outputs": [
    {
     "name": "stdout",
     "output_type": "stream",
     "text": [
      "[11 22 33]\n",
      "[11 22 33]\n",
      "[ 9 18 27]\n",
      "[ 9 18 27]\n",
      "[1 4 9]\n",
      "[ True False False]\n",
      "[[10 40]\n",
      " [90 40]]\n",
      "[[ 70  40]\n",
      " [150 100]]\n",
      "[[ 70  40]\n",
      " [150 100]]\n",
      "[ 7 11 15 19]\n",
      "[4 8 7]\n"
     ]
    }
   ],
   "source": [
    "#numpy 기본 연산\n",
    "a = np.array([1,2,3])\n",
    "b = np.array([10,20,30])\n",
    "\n",
    "print(a+b)\n",
    "print(np.add(a,b))\n",
    "\n",
    "print(b-a)\n",
    "print(np.subtract(b,a))\n",
    "\n",
    "print(a**2)\n",
    "print(b<15)\n",
    "\n",
    "C = np.array([[1,2],\n",
    "             [3,4]])\n",
    "D = np.array([[10,20],\n",
    "             [30,10]])\n",
    "\n",
    "print(C*D)\n",
    "\n",
    "print(np.dot(C,D))\n",
    "print(C.dot(D))\n",
    "\n",
    "a = np.array([[1,2,3,4],\n",
    "             [5,6,7,8],\n",
    "             [1,3,5,7]])\n",
    "\n",
    "print(a.sum(axis = 0))\n",
    "print(a.max(axis = 1))"
   ]
  },
  {
   "cell_type": "code",
   "execution_count": 16,
   "metadata": {},
   "outputs": [
    {
     "name": "stdout",
     "output_type": "stream",
     "text": [
      "[ 1  2  3  4  5  6  7  8  9 10 11 12]\n",
      "[[ 1  2  3  4  5  6]\n",
      " [ 7  8  9 10 11 12]]\n",
      "[[ 1  5  9]\n",
      " [ 2  6 10]\n",
      " [ 3  7 11]\n",
      " [ 4  8 12]]\n",
      "[[ 1  2  3  4]\n",
      " [ 5  6  7  8]\n",
      " [ 9 10 11 12]]\n",
      "[[ 2  2  4]\n",
      " [ 5  5  7]\n",
      " [ 8  8 10]]\n",
      "[[ 2  2  4]\n",
      " [ 5  5  7]\n",
      " [ 8  8 10]]\n"
     ]
    }
   ],
   "source": [
    "a = np.array([[1,2,3,4],\n",
    "              [5,6,7,8],\n",
    "              [9,10,11,12]])\n",
    "\n",
    "print(a.ravel())\n",
    "print(a.reshape(2,6))\n",
    "print(a.T)\n",
    "print(a.reshape(3,-1))\n",
    "\n",
    "a = np.array([[1,2,3],[4,5,6],[7,8,9]])\n",
    "b = np.array([1,0,1])\n",
    "y = np.empty_like(a)\n",
    "\n",
    "for i in range(3):\n",
    "    y[i, :] = a[i, :]+b\n",
    "\n",
    "print(y)\n",
    "\n",
    "c = a+b\n",
    "print(c)"
   ]
  },
  {
   "cell_type": "code",
   "execution_count": 49,
   "metadata": {},
   "outputs": [
    {
     "name": "stdout",
     "output_type": "stream",
     "text": [
      "0    1\n",
      "1    2\n",
      "2    3\n",
      "3    4\n",
      "4    5\n",
      "dtype: int64\n",
      "0    1\n",
      "1    2\n",
      "2    3\n",
      "3    4\n",
      "dtype: int32\n",
      "0    10\n",
      "1    15\n",
      "2    20\n",
      "3    25\n",
      "dtype: int32\n",
      "10    1\n",
      "20    2\n",
      "30    3\n",
      "40    4\n",
      "dtype: int64\n",
      "a    10\n",
      "b    20\n",
      "c    30\n",
      "dtype: int64\n",
      "0    1\n",
      "1    2\n",
      "2    3\n",
      "3    4\n",
      "dtype: int32\n",
      "   0\n",
      "0  1\n",
      "1  3\n",
      "2  5\n",
      "3  7\n",
      "4  9\n",
      "  Name  age\n",
      "1   eo   23\n",
      "2  cho   24\n",
      "3  kim   25\n",
      "    fruit  price\n",
      "1   apple   7000\n",
      "2  banana   5000\n",
      "3  orange   4000\n"
     ]
    }
   ],
   "source": [
    "#pandas\n",
    "import pandas as pd\n",
    "import numpy as np\n",
    "\n",
    "#Series\n",
    "a = pd.Series([1,2,3,4,5])\n",
    "print(a)\n",
    "\n",
    "a = np.array([1,2,3,4])\n",
    "print(pd.Series(a))\n",
    "\n",
    "a = np.arange(10,30,5)\n",
    "print(pd.Series(a))\n",
    "\n",
    "a = pd.Series([1,2,3,4], index = [10,20,30,40])\n",
    "print(a)\n",
    "\n",
    "dict = {'a':10, 'b':20, 'c':30}\n",
    "print(pd.Series(dict))\n",
    "\n",
    "a = pd.Series(np.array([1,2,3,4]))\n",
    "print(a)\n",
    "\n",
    "#DataFrame\n",
    "a = pd.DataFrame([1,3,5,7,9])\n",
    "print(a)\n",
    "\n",
    "dict = {'Name' : ['eo', 'cho', 'kim'], 'age' : [23, 24, 25]}\n",
    "print(pd.DataFrame(dict, index = [1,2,3]))\n",
    "\n",
    "c = pd.DataFrame([['apple', 7000], ['banana', 5000], ['orange', 4000]], index = [1,2,3], columns = ['fruit', 'price'])\n",
    "print(c)"
   ]
  },
  {
   "cell_type": "code",
   "execution_count": 57,
   "metadata": {},
   "outputs": [
    {
     "name": "stdout",
     "output_type": "stream",
     "text": [
      "     Unnamed: 0         A         B    C\n",
      "0    2018-02-03  0.076547 -0.410959  824\n",
      "1    2018-02-04  0.810574  0.988997  255\n",
      "2    2018-02-05  0.071555  0.772209  859\n",
      "3    2018-02-06  0.319684  0.760100  551\n",
      "4    2018-02-07  0.571791  0.162974  159\n",
      "..          ...       ...       ...  ...\n",
      "295  2018-11-25  0.961260 -0.160928  772\n",
      "296  2018-11-26  0.412032  0.739386  171\n",
      "297  2018-11-27  0.934486  0.496985  925\n",
      "298  2018-11-28  0.072067  0.697545  919\n",
      "299  2018-11-29  0.705263 -0.866304  146\n",
      "\n",
      "[300 rows x 4 columns]\n",
      "0      0.076547\n",
      "1      0.810574\n",
      "2      0.071555\n",
      "3      0.319684\n",
      "4      0.571791\n",
      "         ...   \n",
      "295    0.961260\n",
      "296    0.412032\n",
      "297    0.934486\n",
      "298    0.072067\n",
      "299    0.705263\n",
      "Name: A, Length: 300, dtype: float64\n",
      "0    0.076547\n",
      "1    0.810574\n",
      "2    0.071555\n",
      "Name: A, dtype: float64\n",
      "0     -0.334412\n",
      "1      1.799571\n",
      "2      0.843764\n",
      "3      1.079784\n",
      "4      0.734765\n",
      "         ...   \n",
      "295    0.800332\n",
      "296    1.151419\n",
      "297    1.431471\n",
      "298    0.769612\n",
      "299   -0.161041\n",
      "Name: D, Length: 300, dtype: float64\n",
      "     Unnamed: 0         A         B    C         D\n",
      "0    2018-02-03  0.076547 -0.410959  824 -0.334412\n",
      "1    2018-02-04  0.810574  0.988997  255  1.799571\n",
      "2    2018-02-05  0.071555  0.772209  859  0.843764\n",
      "3    2018-02-06  0.319684  0.760100  551  1.079784\n",
      "4    2018-02-07  0.571791  0.162974  159  0.734765\n",
      "..          ...       ...       ...  ...       ...\n",
      "295  2018-11-25  0.961260 -0.160928  772  0.800332\n",
      "296  2018-11-26  0.412032  0.739386  171  1.151419\n",
      "297  2018-11-27  0.934486  0.496985  925  1.431471\n",
      "298  2018-11-28  0.072067  0.697545  919  0.769612\n",
      "299  2018-11-29  0.705263 -0.866304  146 -0.161041\n",
      "\n",
      "[300 rows x 5 columns]\n"
     ]
    },
    {
     "data": {
      "text/html": [
       "<div>\n",
       "<style scoped>\n",
       "    .dataframe tbody tr th:only-of-type {\n",
       "        vertical-align: middle;\n",
       "    }\n",
       "\n",
       "    .dataframe tbody tr th {\n",
       "        vertical-align: top;\n",
       "    }\n",
       "\n",
       "    .dataframe thead th {\n",
       "        text-align: right;\n",
       "    }\n",
       "</style>\n",
       "<table border=\"1\" class=\"dataframe\">\n",
       "  <thead>\n",
       "    <tr style=\"text-align: right;\">\n",
       "      <th></th>\n",
       "      <th>A</th>\n",
       "      <th>B</th>\n",
       "      <th>C</th>\n",
       "      <th>D</th>\n",
       "    </tr>\n",
       "  </thead>\n",
       "  <tbody>\n",
       "    <tr>\n",
       "      <th>count</th>\n",
       "      <td>300.000000</td>\n",
       "      <td>300.000000</td>\n",
       "      <td>300.000000</td>\n",
       "      <td>300.000000</td>\n",
       "    </tr>\n",
       "    <tr>\n",
       "      <th>mean</th>\n",
       "      <td>0.504467</td>\n",
       "      <td>0.120235</td>\n",
       "      <td>517.743333</td>\n",
       "      <td>0.624702</td>\n",
       "    </tr>\n",
       "    <tr>\n",
       "      <th>std</th>\n",
       "      <td>0.283837</td>\n",
       "      <td>0.576256</td>\n",
       "      <td>283.187160</td>\n",
       "      <td>0.656320</td>\n",
       "    </tr>\n",
       "    <tr>\n",
       "      <th>min</th>\n",
       "      <td>0.003110</td>\n",
       "      <td>-0.981417</td>\n",
       "      <td>0.000000</td>\n",
       "      <td>-0.890799</td>\n",
       "    </tr>\n",
       "    <tr>\n",
       "      <th>25%</th>\n",
       "      <td>0.241881</td>\n",
       "      <td>-0.336614</td>\n",
       "      <td>282.250000</td>\n",
       "      <td>0.100411</td>\n",
       "    </tr>\n",
       "    <tr>\n",
       "      <th>50%</th>\n",
       "      <td>0.528009</td>\n",
       "      <td>0.224035</td>\n",
       "      <td>526.500000</td>\n",
       "      <td>0.767702</td>\n",
       "    </tr>\n",
       "    <tr>\n",
       "      <th>75%</th>\n",
       "      <td>0.750084</td>\n",
       "      <td>0.591710</td>\n",
       "      <td>754.250000</td>\n",
       "      <td>1.141083</td>\n",
       "    </tr>\n",
       "    <tr>\n",
       "      <th>max</th>\n",
       "      <td>0.994491</td>\n",
       "      <td>0.989536</td>\n",
       "      <td>996.000000</td>\n",
       "      <td>1.857518</td>\n",
       "    </tr>\n",
       "  </tbody>\n",
       "</table>\n",
       "</div>"
      ],
      "text/plain": [
       "                A           B           C           D\n",
       "count  300.000000  300.000000  300.000000  300.000000\n",
       "mean     0.504467    0.120235  517.743333    0.624702\n",
       "std      0.283837    0.576256  283.187160    0.656320\n",
       "min      0.003110   -0.981417    0.000000   -0.890799\n",
       "25%      0.241881   -0.336614  282.250000    0.100411\n",
       "50%      0.528009    0.224035  526.500000    0.767702\n",
       "75%      0.750084    0.591710  754.250000    1.141083\n",
       "max      0.994491    0.989536  996.000000    1.857518"
      ]
     },
     "execution_count": 57,
     "metadata": {},
     "output_type": "execute_result"
    }
   ],
   "source": [
    "df = pd.read_csv('datafile.csv')\n",
    "print(df)\n",
    "\n",
    "print(df['A'])\n",
    "print(df['A'][:3])\n",
    "\n",
    "df['D'] = df['A'] + df['B']\n",
    "print(df['D'])\n",
    "print(df)\n",
    "\n",
    "df.describe()"
   ]
  },
  {
   "cell_type": "code",
   "execution_count": 65,
   "metadata": {},
   "outputs": [
    {
     "data": {
      "text/plain": [
       "[<matplotlib.lines.Line2D at 0x23a8b001dc8>]"
      ]
     },
     "execution_count": 65,
     "metadata": {},
     "output_type": "execute_result"
    },
    {
     "data": {
      "image/png": "[encoded data removed]",
      "text/plain": [
       "<Figure size 432x288 with 1 Axes>"
      ]
     },
     "metadata": {
      "needs_background": "light"
     },
     "output_type": "display_data"
    }
   ],
   "source": [
    "#matplotlib\n",
    "import matplotlib.pyplot as plt\n",
    "import numpy as np\n",
    "\n",
    "%matplotlib inline\n",
    "\n",
    "X = [1,3,5,7,9]\n",
    "Y = [100,200,300,400,500]\n",
    "plt.plot(X,Y)"
   ]
  },
  {
   "cell_type": "code",
   "execution_count": 64,
   "metadata": {},
   "outputs": [
    {
     "data": {
      "text/plain": [
       "[<matplotlib.lines.Line2D at 0x23a8af9adc8>]"
      ]
     },
     "execution_count": 64,
     "metadata": {},
     "output_type": "execute_result"
    },
    {
     "data": {
      "image/png": "[encoded data removed]",
      "text/plain": [
       "<Figure size 432x288 with 1 Axes>"
      ]
     },
     "metadata": {
      "needs_background": "light"
     },
     "output_type": "display_data"
    }
   ],
   "source": [
    "x = np.linspace(-np.pi, np.pi, 128)\n",
    "y = np.cos(x)\n",
    "plt.plot(y)"
   ]
  },
  {
   "cell_type": "code",
   "execution_count": 69,
   "metadata": {},
   "outputs": [
    {
     "data": {
      "text/plain": [
       "<matplotlib.axes._subplots.AxesSubplot at 0x23a8c1a42c8>"
      ]
     },
     "execution_count": 69,
     "metadata": {},
     "output_type": "execute_result"
    },
    {
     "data": {
      "image/png": "[encoded data removed]",
      "text/plain": [
       "<Figure size 432x288 with 1 Axes>"
      ]
     },
     "metadata": {
      "needs_background": "light"
     },
     "output_type": "display_data"
    },
    {
     "data": {
      "image/png": "[encoded data removed]",
      "text/plain": [
       "<Figure size 432x288 with 1 Axes>"
      ]
     },
     "metadata": {
      "needs_background": "light"
     },
     "output_type": "display_data"
    }
   ],
   "source": [
    "dataframe = pd.read_csv('datafile.csv')\n",
    "dataframe.plot()\n",
    "\n",
    "data_sum = dataframe.cumsum()\n",
    "data_sum.plot()"
   ]
  },
  {
   "cell_type": "code",
   "execution_count": 3,
   "metadata": {},
   "outputs": [
    {
     "data": {
      "text/plain": [
       "<re.Match object; span=(0, 3), match='Wow'>"
      ]
     },
     "execution_count": 3,
     "metadata": {},
     "output_type": "execute_result"
    }
   ],
   "source": [
    "import re\n",
    "\n",
    "pattern = '\\w+'\n",
    "re_pattern = re.compile(pattern)\n",
    "\n",
    "re.search(re_pattern, 'Wow, it is awesome')"
   ]
  },
  {
   "cell_type": "code",
   "execution_count": 4,
   "metadata": {},
   "outputs": [
    {
     "data": {
      "text/plain": [
       "['Wow', '', 'it', 'is', 'world', 'of', 'word']"
      ]
     },
     "execution_count": 4,
     "metadata": {},
     "output_type": "execute_result"
    }
   ],
   "source": [
    "re.split('\\W', 'Wow, it is world of word')"
   ]
  },
  {
   "cell_type": "code",
   "execution_count": 5,
   "metadata": {},
   "outputs": [
    {
     "data": {
      "text/plain": [
       "'number candy'"
      ]
     },
     "execution_count": 5,
     "metadata": {},
     "output_type": "execute_result"
    }
   ],
   "source": [
    "re.sub('\\d', 'number', '7 candy')"
   ]
  },
  {
   "cell_type": "code",
   "execution_count": 1,
   "metadata": {},
   "outputs": [
    {
     "name": "stdout",
     "output_type": "stream",
     "text": [
      " 이 글은 Beautiful soup 라이브러리를 사용하는 방법에 대한 글입니다.   라이브러리를 사용하면 쉽게 HTML 태그를 제거할 수 있습니다.\n"
     ]
    }
   ],
   "source": [
    "from bs4 import BeautifulSoup\n",
    "import lxml\n",
    "import html5lib\n",
    "\n",
    "str = '<body> 이 글은 Beautiful soup 라이브러리를 사용하는 방법에 대한 글입니다. <br> </br> 라이브러리를 사용하면 쉽게 HTML 태그를 제거할 수 있습니다.</body>'\n",
    "str = BeautifulSoup(str, 'html5lib').get_text()\n",
    "print(str)"
   ]
  },
  {
   "cell_type": "raw",
   "metadata": {},
   "source": []
  }
 ],
 "metadata": {
  "kernelspec": {
   "display_name": "Python 3",
   "language": "python",
   "name": "python3"
  },
  "language_info": {
   "codemirror_mode": {
    "name": "ipython",
    "version": 3
   },
   "file_extension": ".py",
   "mimetype": "text/x-python",
   "name": "python",
   "nbconvert_exporter": "python",
   "pygments_lexer": "ipython3",
   "version": "3.7.5"
  }
 },
 "nbformat": 4,
 "nbformat_minor": 2
}
